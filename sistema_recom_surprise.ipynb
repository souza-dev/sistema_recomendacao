{
  "nbformat": 4,
  "nbformat_minor": 0,
  "metadata": {
    "colab": {
      "name": "sistema_recom_surprise",
      "provenance": [],
      "collapsed_sections": [],
      "authorship_tag": "ABX9TyPj680Hr6fJUdANzJ2YtIuG",
      "include_colab_link": true
    },
    "kernelspec": {
      "name": "python3",
      "display_name": "Python 3"
    },
    "language_info": {
      "name": "python"
    }
  },
  "cells": [
    {
      "cell_type": "markdown",
      "metadata": {
        "id": "view-in-github",
        "colab_type": "text"
      },
      "source": [
        "<a href=\"https://colab.research.google.com/github/souza-dev/sistema_recomendacao/blob/main/sistema_recom_surprise.ipynb\" target=\"_parent\"><img src=\"https://colab.research.google.com/assets/colab-badge.svg\" alt=\"Open In Colab\"/></a>"
      ]
    },
    {
      "cell_type": "markdown",
      "metadata": {
        "id": "JSAfTLospGSU"
      },
      "source": [
        "O dataset utilizado foi obtido \n",
        "https://nijianmo.github.io/amazon/index.html#complete-data\n",
        "onde foi escolhido os reviews de usuários na cateogoria CDs e Discos de Vinil."
      ]
    },
    {
      "cell_type": "code",
      "metadata": {
        "colab": {
          "base_uri": "https://localhost:8080/"
        },
        "id": "Nkh2D1uw0jMK",
        "outputId": "897afd5f-2e84-4ad6-8e2c-e1884ca992f0"
      },
      "source": [
        "!pip install surprise"
      ],
      "execution_count": 1,
      "outputs": [
        {
          "output_type": "stream",
          "name": "stdout",
          "text": [
            "Requirement already satisfied: surprise in /usr/local/lib/python3.7/dist-packages (0.1)\n",
            "Requirement already satisfied: scikit-surprise in /usr/local/lib/python3.7/dist-packages (from surprise) (1.1.1)\n",
            "Requirement already satisfied: joblib>=0.11 in /usr/local/lib/python3.7/dist-packages (from scikit-surprise->surprise) (1.0.1)\n",
            "Requirement already satisfied: scipy>=1.0.0 in /usr/local/lib/python3.7/dist-packages (from scikit-surprise->surprise) (1.4.1)\n",
            "Requirement already satisfied: numpy>=1.11.2 in /usr/local/lib/python3.7/dist-packages (from scikit-surprise->surprise) (1.19.5)\n",
            "Requirement already satisfied: six>=1.10.0 in /usr/local/lib/python3.7/dist-packages (from scikit-surprise->surprise) (1.15.0)\n"
          ]
        }
      ]
    },
    {
      "cell_type": "code",
      "metadata": {
        "colab": {
          "base_uri": "https://localhost:8080/"
        },
        "id": "ikzUB8S60lP7",
        "outputId": "17c70a2b-3bdf-4cde-fb1b-e5fe1d889fba"
      },
      "source": [
        "!wget 'http://deepyeti.ucsd.edu/jianmo/amazon/categoryFilesSmall/CDs_and_Vinyl_5.json.gz' -O 'CDs_and_Vinyl_5.json.gz'"
      ],
      "execution_count": 2,
      "outputs": [
        {
          "output_type": "stream",
          "name": "stdout",
          "text": [
            "--2021-11-06 23:51:07--  http://deepyeti.ucsd.edu/jianmo/amazon/categoryFilesSmall/CDs_and_Vinyl_5.json.gz\n",
            "Resolving deepyeti.ucsd.edu (deepyeti.ucsd.edu)... 169.228.63.50\n",
            "Connecting to deepyeti.ucsd.edu (deepyeti.ucsd.edu)|169.228.63.50|:80... connected.\n",
            "HTTP request sent, awaiting response... 200 OK\n",
            "Length: 484144315 (462M) [application/octet-stream]\n",
            "Saving to: ‘CDs_and_Vinyl_5.json.gz’\n",
            "\n",
            "CDs_and_Vinyl_5.jso 100%[===================>] 461.72M  42.3MB/s    in 11s     \n",
            "\n",
            "2021-11-06 23:51:18 (40.8 MB/s) - ‘CDs_and_Vinyl_5.json.gz’ saved [484144315/484144315]\n",
            "\n"
          ]
        }
      ]
    },
    {
      "cell_type": "code",
      "metadata": {
        "id": "aQIJbnMy1Cpk"
      },
      "source": [
        "!gunzip -f CDs_and_Vinyl_5.json.gz"
      ],
      "execution_count": 3,
      "outputs": []
    },
    {
      "cell_type": "markdown",
      "metadata": {
        "id": "chLrdXJ_9hN6"
      },
      "source": [
        "# Recuperação dos dados e feature engineering"
      ]
    },
    {
      "cell_type": "code",
      "metadata": {
        "colab": {
          "base_uri": "https://localhost:8080/",
          "height": 589
        },
        "id": "gXK-WBOh1btn",
        "outputId": "74c076f8-8b73-4b9c-f0d6-f43a88c9c1be"
      },
      "source": [
        "import pandas as pd\n",
        "raw_data = pd.read_json('/content/CDs_and_Vinyl_5.json', lines=True)\n",
        "raw_data"
      ],
      "execution_count": 4,
      "outputs": [
        {
          "output_type": "execute_result",
          "data": {
            "text/html": [
              "<div>\n",
              "<style scoped>\n",
              "    .dataframe tbody tr th:only-of-type {\n",
              "        vertical-align: middle;\n",
              "    }\n",
              "\n",
              "    .dataframe tbody tr th {\n",
              "        vertical-align: top;\n",
              "    }\n",
              "\n",
              "    .dataframe thead th {\n",
              "        text-align: right;\n",
              "    }\n",
              "</style>\n",
              "<table border=\"1\" class=\"dataframe\">\n",
              "  <thead>\n",
              "    <tr style=\"text-align: right;\">\n",
              "      <th></th>\n",
              "      <th>reviewerID</th>\n",
              "      <th>asin</th>\n",
              "      <th>reviewerName</th>\n",
              "      <th>verified</th>\n",
              "      <th>reviewText</th>\n",
              "      <th>overall</th>\n",
              "      <th>reviewTime</th>\n",
              "      <th>summary</th>\n",
              "      <th>unixReviewTime</th>\n",
              "      <th>style</th>\n",
              "      <th>vote</th>\n",
              "      <th>image</th>\n",
              "    </tr>\n",
              "  </thead>\n",
              "  <tbody>\n",
              "    <tr>\n",
              "      <th>0</th>\n",
              "      <td>A1H1DL4K669VQ9</td>\n",
              "      <td>0001393774</td>\n",
              "      <td>Judith Paladino</td>\n",
              "      <td>True</td>\n",
              "      <td>Love it!!  Great seller!</td>\n",
              "      <td>5</td>\n",
              "      <td>04 29, 2016</td>\n",
              "      <td>Five Stars</td>\n",
              "      <td>1461888000</td>\n",
              "      <td>NaN</td>\n",
              "      <td>NaN</td>\n",
              "      <td>NaN</td>\n",
              "    </tr>\n",
              "    <tr>\n",
              "      <th>1</th>\n",
              "      <td>A3V5XBBT7OZG5G</td>\n",
              "      <td>0001393774</td>\n",
              "      <td>gflady</td>\n",
              "      <td>True</td>\n",
              "      <td>One of my very favourite albums from one of my...</td>\n",
              "      <td>5</td>\n",
              "      <td>02 23, 2016</td>\n",
              "      <td>One of my very favourite albums from one of my...</td>\n",
              "      <td>1456185600</td>\n",
              "      <td>NaN</td>\n",
              "      <td>NaN</td>\n",
              "      <td>NaN</td>\n",
              "    </tr>\n",
              "    <tr>\n",
              "      <th>2</th>\n",
              "      <td>A3SNL7UJY7GWBI</td>\n",
              "      <td>0001393774</td>\n",
              "      <td>Lady Leatherneck</td>\n",
              "      <td>True</td>\n",
              "      <td>THank you Jesus Lord God, that brother Green's...</td>\n",
              "      <td>5</td>\n",
              "      <td>02 11, 2016</td>\n",
              "      <td>Five Stars</td>\n",
              "      <td>1455148800</td>\n",
              "      <td>NaN</td>\n",
              "      <td>NaN</td>\n",
              "      <td>NaN</td>\n",
              "    </tr>\n",
              "    <tr>\n",
              "      <th>3</th>\n",
              "      <td>A3478QRKQDOPQ2</td>\n",
              "      <td>0001393774</td>\n",
              "      <td>jacki</td>\n",
              "      <td>True</td>\n",
              "      <td>I recall loving his other albums and maybe thi...</td>\n",
              "      <td>5</td>\n",
              "      <td>11 28, 2015</td>\n",
              "      <td>forgot but I figured on some of these artists ...</td>\n",
              "      <td>1448668800</td>\n",
              "      <td>NaN</td>\n",
              "      <td>NaN</td>\n",
              "      <td>NaN</td>\n",
              "    </tr>\n",
              "    <tr>\n",
              "      <th>4</th>\n",
              "      <td>A23M5VTSN2C3H1</td>\n",
              "      <td>0001393774</td>\n",
              "      <td>Caliope</td>\n",
              "      <td>True</td>\n",
              "      <td>Keith Green was a pioneer in the field of Chri...</td>\n",
              "      <td>5</td>\n",
              "      <td>12 16, 2014</td>\n",
              "      <td>and I have loved every album he did</td>\n",
              "      <td>1418688000</td>\n",
              "      <td>NaN</td>\n",
              "      <td>NaN</td>\n",
              "      <td>NaN</td>\n",
              "    </tr>\n",
              "    <tr>\n",
              "      <th>...</th>\n",
              "      <td>...</td>\n",
              "      <td>...</td>\n",
              "      <td>...</td>\n",
              "      <td>...</td>\n",
              "      <td>...</td>\n",
              "      <td>...</td>\n",
              "      <td>...</td>\n",
              "      <td>...</td>\n",
              "      <td>...</td>\n",
              "      <td>...</td>\n",
              "      <td>...</td>\n",
              "      <td>...</td>\n",
              "    </tr>\n",
              "    <tr>\n",
              "      <th>1443750</th>\n",
              "      <td>A30ZM19J0CNAGJ</td>\n",
              "      <td>B01HJDG28E</td>\n",
              "      <td>Reggie: a music lover</td>\n",
              "      <td>True</td>\n",
              "      <td>Night Hawk is ten outstanding new recordings o...</td>\n",
              "      <td>5</td>\n",
              "      <td>12 31, 2016</td>\n",
              "      <td>My favorite cut is the cover of \"(Ghost) Rider...</td>\n",
              "      <td>1483142400</td>\n",
              "      <td>{'Format:': ' Audio CD'}</td>\n",
              "      <td>NaN</td>\n",
              "      <td>NaN</td>\n",
              "    </tr>\n",
              "    <tr>\n",
              "      <th>1443751</th>\n",
              "      <td>APXJ8QC63EG38</td>\n",
              "      <td>B01HJG3VZI</td>\n",
              "      <td>Steven Schubak</td>\n",
              "      <td>True</td>\n",
              "      <td>ok</td>\n",
              "      <td>3</td>\n",
              "      <td>07 25, 2018</td>\n",
              "      <td>Three Stars</td>\n",
              "      <td>1532476800</td>\n",
              "      <td>{'Format:': ' Audio CD'}</td>\n",
              "      <td>NaN</td>\n",
              "      <td>NaN</td>\n",
              "    </tr>\n",
              "    <tr>\n",
              "      <th>1443752</th>\n",
              "      <td>A5HIGHKQPINEO</td>\n",
              "      <td>B01HJG3VZI</td>\n",
              "      <td>Oman</td>\n",
              "      <td>True</td>\n",
              "      <td>Great music great sound love the music lots of...</td>\n",
              "      <td>5</td>\n",
              "      <td>07 17, 2018</td>\n",
              "      <td>The sound quality and number of hits</td>\n",
              "      <td>1531785600</td>\n",
              "      <td>{'Format:': ' Audio CD'}</td>\n",
              "      <td>NaN</td>\n",
              "      <td>NaN</td>\n",
              "    </tr>\n",
              "    <tr>\n",
              "      <th>1443753</th>\n",
              "      <td>A1B26TNQEWHQ4K</td>\n",
              "      <td>B01HJG3VZI</td>\n",
              "      <td>David W. Barsness</td>\n",
              "      <td>True</td>\n",
              "      <td>Really good fun quality stuff</td>\n",
              "      <td>5</td>\n",
              "      <td>06 23, 2018</td>\n",
              "      <td>5fer</td>\n",
              "      <td>1529712000</td>\n",
              "      <td>{'Format:': ' Audio CD'}</td>\n",
              "      <td>NaN</td>\n",
              "      <td>NaN</td>\n",
              "    </tr>\n",
              "    <tr>\n",
              "      <th>1443754</th>\n",
              "      <td>A1KCWOF28NPM3M</td>\n",
              "      <td>B01HJG3VZI</td>\n",
              "      <td>Peter G.</td>\n",
              "      <td>True</td>\n",
              "      <td>Great 5 LP by The Guess Who, love all these al...</td>\n",
              "      <td>5</td>\n",
              "      <td>11 4, 2017</td>\n",
              "      <td>Guess Who 5 Pack!</td>\n",
              "      <td>1509753600</td>\n",
              "      <td>{'Format:': ' Audio CD'}</td>\n",
              "      <td>NaN</td>\n",
              "      <td>NaN</td>\n",
              "    </tr>\n",
              "  </tbody>\n",
              "</table>\n",
              "<p>1443755 rows × 12 columns</p>\n",
              "</div>"
            ],
            "text/plain": [
              "             reviewerID        asin  ... vote  image\n",
              "0        A1H1DL4K669VQ9  0001393774  ...  NaN    NaN\n",
              "1        A3V5XBBT7OZG5G  0001393774  ...  NaN    NaN\n",
              "2        A3SNL7UJY7GWBI  0001393774  ...  NaN    NaN\n",
              "3        A3478QRKQDOPQ2  0001393774  ...  NaN    NaN\n",
              "4        A23M5VTSN2C3H1  0001393774  ...  NaN    NaN\n",
              "...                 ...         ...  ...  ...    ...\n",
              "1443750  A30ZM19J0CNAGJ  B01HJDG28E  ...  NaN    NaN\n",
              "1443751   APXJ8QC63EG38  B01HJG3VZI  ...  NaN    NaN\n",
              "1443752   A5HIGHKQPINEO  B01HJG3VZI  ...  NaN    NaN\n",
              "1443753  A1B26TNQEWHQ4K  B01HJG3VZI  ...  NaN    NaN\n",
              "1443754  A1KCWOF28NPM3M  B01HJG3VZI  ...  NaN    NaN\n",
              "\n",
              "[1443755 rows x 12 columns]"
            ]
          },
          "metadata": {},
          "execution_count": 4
        }
      ]
    },
    {
      "cell_type": "code",
      "metadata": {
        "colab": {
          "base_uri": "https://localhost:8080/",
          "height": 419
        },
        "id": "pPljd4mF3_TY",
        "outputId": "2df8770a-3263-4394-e221-adbf137d73f5"
      },
      "source": [
        "data = raw_data[['reviewerID', 'asin', 'overall']].dropna()\n",
        "data = data.sample(frac=0.3, random_state=42) #Foi usado 30% do dataset original por questões de desempenho.\n",
        "data = data.reset_index(drop=True)\n",
        "data.columns = ['uid', 'iid', 'rating']\n",
        "data"
      ],
      "execution_count": 5,
      "outputs": [
        {
          "output_type": "execute_result",
          "data": {
            "text/html": [
              "<div>\n",
              "<style scoped>\n",
              "    .dataframe tbody tr th:only-of-type {\n",
              "        vertical-align: middle;\n",
              "    }\n",
              "\n",
              "    .dataframe tbody tr th {\n",
              "        vertical-align: top;\n",
              "    }\n",
              "\n",
              "    .dataframe thead th {\n",
              "        text-align: right;\n",
              "    }\n",
              "</style>\n",
              "<table border=\"1\" class=\"dataframe\">\n",
              "  <thead>\n",
              "    <tr style=\"text-align: right;\">\n",
              "      <th></th>\n",
              "      <th>uid</th>\n",
              "      <th>iid</th>\n",
              "      <th>rating</th>\n",
              "    </tr>\n",
              "  </thead>\n",
              "  <tbody>\n",
              "    <tr>\n",
              "      <th>0</th>\n",
              "      <td>A31OMQ0YC2Z764</td>\n",
              "      <td>B000001E0I</td>\n",
              "      <td>5</td>\n",
              "    </tr>\n",
              "    <tr>\n",
              "      <th>1</th>\n",
              "      <td>A196QPMC6YWUDV</td>\n",
              "      <td>B00065GHWE</td>\n",
              "      <td>5</td>\n",
              "    </tr>\n",
              "    <tr>\n",
              "      <th>2</th>\n",
              "      <td>A2W2PYVSXV4Z6H</td>\n",
              "      <td>B007885NOA</td>\n",
              "      <td>5</td>\n",
              "    </tr>\n",
              "    <tr>\n",
              "      <th>3</th>\n",
              "      <td>A1P329PIY6SJG</td>\n",
              "      <td>B00AGKH6D8</td>\n",
              "      <td>5</td>\n",
              "    </tr>\n",
              "    <tr>\n",
              "      <th>4</th>\n",
              "      <td>A1QZS6NVZ85F72</td>\n",
              "      <td>B000003N6H</td>\n",
              "      <td>1</td>\n",
              "    </tr>\n",
              "    <tr>\n",
              "      <th>...</th>\n",
              "      <td>...</td>\n",
              "      <td>...</td>\n",
              "      <td>...</td>\n",
              "    </tr>\n",
              "    <tr>\n",
              "      <th>433121</th>\n",
              "      <td>A1UIZW67H2318W</td>\n",
              "      <td>B00000K53Y</td>\n",
              "      <td>5</td>\n",
              "    </tr>\n",
              "    <tr>\n",
              "      <th>433122</th>\n",
              "      <td>A107I6YPYHLZIC</td>\n",
              "      <td>B00000AEDU</td>\n",
              "      <td>4</td>\n",
              "    </tr>\n",
              "    <tr>\n",
              "      <th>433123</th>\n",
              "      <td>A1IFS48OYNGOZX</td>\n",
              "      <td>B000002UDB</td>\n",
              "      <td>3</td>\n",
              "    </tr>\n",
              "    <tr>\n",
              "      <th>433124</th>\n",
              "      <td>APVZ7D2UB5K3N</td>\n",
              "      <td>B01F3REDMU</td>\n",
              "      <td>4</td>\n",
              "    </tr>\n",
              "    <tr>\n",
              "      <th>433125</th>\n",
              "      <td>A3OMY3FBL3ZNN1</td>\n",
              "      <td>B00000289A</td>\n",
              "      <td>4</td>\n",
              "    </tr>\n",
              "  </tbody>\n",
              "</table>\n",
              "<p>433126 rows × 3 columns</p>\n",
              "</div>"
            ],
            "text/plain": [
              "                   uid         iid  rating\n",
              "0       A31OMQ0YC2Z764  B000001E0I       5\n",
              "1       A196QPMC6YWUDV  B00065GHWE       5\n",
              "2       A2W2PYVSXV4Z6H  B007885NOA       5\n",
              "3        A1P329PIY6SJG  B00AGKH6D8       5\n",
              "4       A1QZS6NVZ85F72  B000003N6H       1\n",
              "...                ...         ...     ...\n",
              "433121  A1UIZW67H2318W  B00000K53Y       5\n",
              "433122  A107I6YPYHLZIC  B00000AEDU       4\n",
              "433123  A1IFS48OYNGOZX  B000002UDB       3\n",
              "433124   APVZ7D2UB5K3N  B01F3REDMU       4\n",
              "433125  A3OMY3FBL3ZNN1  B00000289A       4\n",
              "\n",
              "[433126 rows x 3 columns]"
            ]
          },
          "metadata": {},
          "execution_count": 5
        }
      ]
    },
    {
      "cell_type": "code",
      "metadata": {
        "colab": {
          "base_uri": "https://localhost:8080/",
          "height": 297
        },
        "id": "tY-CKjym5C4w",
        "outputId": "7b2f146a-1a01-4f93-cf0d-036b3d92a716"
      },
      "source": [
        "data.describe()"
      ],
      "execution_count": 6,
      "outputs": [
        {
          "output_type": "execute_result",
          "data": {
            "text/html": [
              "<div>\n",
              "<style scoped>\n",
              "    .dataframe tbody tr th:only-of-type {\n",
              "        vertical-align: middle;\n",
              "    }\n",
              "\n",
              "    .dataframe tbody tr th {\n",
              "        vertical-align: top;\n",
              "    }\n",
              "\n",
              "    .dataframe thead th {\n",
              "        text-align: right;\n",
              "    }\n",
              "</style>\n",
              "<table border=\"1\" class=\"dataframe\">\n",
              "  <thead>\n",
              "    <tr style=\"text-align: right;\">\n",
              "      <th></th>\n",
              "      <th>rating</th>\n",
              "    </tr>\n",
              "  </thead>\n",
              "  <tbody>\n",
              "    <tr>\n",
              "      <th>count</th>\n",
              "      <td>433126.000000</td>\n",
              "    </tr>\n",
              "    <tr>\n",
              "      <th>mean</th>\n",
              "      <td>4.440221</td>\n",
              "    </tr>\n",
              "    <tr>\n",
              "      <th>std</th>\n",
              "      <td>0.976458</td>\n",
              "    </tr>\n",
              "    <tr>\n",
              "      <th>min</th>\n",
              "      <td>1.000000</td>\n",
              "    </tr>\n",
              "    <tr>\n",
              "      <th>25%</th>\n",
              "      <td>4.000000</td>\n",
              "    </tr>\n",
              "    <tr>\n",
              "      <th>50%</th>\n",
              "      <td>5.000000</td>\n",
              "    </tr>\n",
              "    <tr>\n",
              "      <th>75%</th>\n",
              "      <td>5.000000</td>\n",
              "    </tr>\n",
              "    <tr>\n",
              "      <th>max</th>\n",
              "      <td>5.000000</td>\n",
              "    </tr>\n",
              "  </tbody>\n",
              "</table>\n",
              "</div>"
            ],
            "text/plain": [
              "              rating\n",
              "count  433126.000000\n",
              "mean        4.440221\n",
              "std         0.976458\n",
              "min         1.000000\n",
              "25%         4.000000\n",
              "50%         5.000000\n",
              "75%         5.000000\n",
              "max         5.000000"
            ]
          },
          "metadata": {},
          "execution_count": 6
        }
      ]
    },
    {
      "cell_type": "markdown",
      "metadata": {
        "id": "09LSqXxq9YdY"
      },
      "source": [
        "# Uso da biblioteca Surprise para fazer as predições"
      ]
    },
    {
      "cell_type": "code",
      "metadata": {
        "id": "IqO6R1YX2VbM"
      },
      "source": [
        "import surprise\n",
        "from surprise import Reader\n",
        "from surprise import Dataset\n",
        "from surprise.model_selection import train_test_split"
      ],
      "execution_count": 7,
      "outputs": []
    },
    {
      "cell_type": "code",
      "metadata": {
        "id": "zkla2L5omICQ"
      },
      "source": [
        "reader = Reader(line_format='user item rating', rating_scale=(0.0, 5.0))"
      ],
      "execution_count": 8,
      "outputs": []
    },
    {
      "cell_type": "code",
      "metadata": {
        "id": "U1Zp7mYzmJF9"
      },
      "source": [
        "data_suprise = surprise.Dataset.load_from_df(data,reader)"
      ],
      "execution_count": 9,
      "outputs": []
    },
    {
      "cell_type": "code",
      "metadata": {
        "id": "IdKJYjTYmMSo"
      },
      "source": [
        "trainset, testset = train_test_split(data_suprise)"
      ],
      "execution_count": 10,
      "outputs": []
    },
    {
      "cell_type": "code",
      "metadata": {
        "colab": {
          "base_uri": "https://localhost:8080/"
        },
        "id": "bIRY6yDamWgC",
        "outputId": "9d4b5ec3-57ac-4172-a01d-cab0ad945684"
      },
      "source": [
        "algo = surprise.SVDpp()\n",
        "algo.fit(trainset)"
      ],
      "execution_count": 11,
      "outputs": [
        {
          "output_type": "execute_result",
          "data": {
            "text/plain": [
              "<surprise.prediction_algorithms.matrix_factorization.SVDpp at 0x7f10410be5d0>"
            ]
          },
          "metadata": {},
          "execution_count": 11
        }
      ]
    },
    {
      "cell_type": "markdown",
      "metadata": {
        "id": "0pYK-R6CIMRn"
      },
      "source": [
        "Funções auxiliares"
      ]
    },
    {
      "cell_type": "code",
      "metadata": {
        "id": "hsZge-EJ47Br"
      },
      "source": [
        "from collections import defaultdict\n",
        "\n",
        "#Função que retorna as 5 melhores avalicações do usuário.\n",
        "def get_best_reviews(uid):\n",
        "  return data.set_index('uid').loc[uid].sort_values('rating', ascending=False).reset_index(drop=True).head(5)\n",
        "\n",
        "#Função que retorna todos os produtos avaliados pelo usuário.\n",
        "def get_iid_reviewed(uid):\n",
        "  return data.set_index('uid').loc[uid]['iid'].reset_index(drop=True)\n",
        "\n",
        "#Função que retorna os produtos não avaliados pelo usuário.\n",
        "def get_not_reviewed(uid):\n",
        "  return data.set_index('iid').drop(get_iid_reviewed(uid), axis=0).reset_index()\n",
        "\n",
        "#Função que retorna a predição de nota pra cada produto não avaliado pelo usuário.\n",
        "def verify_predict(uid):\n",
        "  dic = []\n",
        "  for iid in get_not_reviewed(user_dict[0])['iid']:\n",
        "    dic.append(algo.predict(uid, iid))\n",
        "  return dic\n",
        "\n",
        "#Função que retorna o dataframe ordenado por predição.\n",
        "def show_recommendation(uid):\n",
        "  predicts = defaultdict(list)\n",
        "  for _, item, _, predict, _ in verify_predict(uid):\n",
        "    predicts[item] = predict\n",
        "  df = pd.DataFrame.from_dict(predicts, orient='index', columns=['Predict'])\n",
        "  df = df.sort_values('Predict', ascending=False).head(5).reset_index()\n",
        "  df.columns = ['iid', 'Predict']\n",
        "  return df"
      ],
      "execution_count": 12,
      "outputs": []
    },
    {
      "cell_type": "markdown",
      "metadata": {
        "id": "4nKhwS4Ad1ia"
      },
      "source": [
        "# Utilizando as funções de predição"
      ]
    },
    {
      "cell_type": "markdown",
      "metadata": {
        "id": "GGZ_EwTkd6cl"
      },
      "source": [
        "Como o dataset utiliza hashes para o id de usuário ao invés de número, foi criado um dicionário enumerando essas hashes e usado para mapear um número para a hash da posição correspondente. Assim a função pode ser chamada utilizando números ao invés de precisar entrar com as hashes."
      ]
    },
    {
      "cell_type": "code",
      "metadata": {
        "id": "EeVc6tXCd0_H"
      },
      "source": [
        "#Dicionário auxiliar, para buscar o usuário por numero ao invés de hashes\n",
        "user_dict = pd.DataFrame(pd.unique(data['uid'])).to_dict()[0]"
      ],
      "execution_count": 14,
      "outputs": []
    },
    {
      "cell_type": "code",
      "metadata": {
        "id": "qLKDk3HMhR-l"
      },
      "source": [
        "from google.colab import output\n",
        "def menu():\n",
        "  while (True):\n",
        "    output.clear()\n",
        "    user = int(input(f'\\nDigite um número de usuário de 0 a {len(user_dict) - 1}  para obter as recomendações: '))\n",
        "    print(\"Produtos que o usuário avaliou bem:\\n\")\n",
        "    best_reviews = get_best_reviews(user_dict[user])\n",
        "    for iid in best_reviews['iid']:\n",
        "      print('https://www.amazon.com/dp/'+iid)\n",
        "    print(\"\\n\")\n",
        "    print(\"Produtos recomendados:\\n\")\n",
        "    recomendation = show_recommendation(user_dict[user])\n",
        "    for iid in recomendation['iid']:\n",
        "      print('https://www.amazon.com/dp/'+iid)\n",
        "    print(\"\\n\")\n",
        "    cont = input('\\nDeseja consultar outro usuário? [S/N]\\n ').upper()\n",
        "    if cont == 'N':\n",
        "      break\n",
        "  "
      ],
      "execution_count": 15,
      "outputs": []
    },
    {
      "cell_type": "code",
      "metadata": {
        "colab": {
          "base_uri": "https://localhost:8080/"
        },
        "id": "lseVH59DoyZM",
        "outputId": "5a97c984-2795-4d93-f4dc-4096f7609cc8"
      },
      "source": [
        "menu()"
      ],
      "execution_count": 16,
      "outputs": [
        {
          "name": "stdout",
          "output_type": "stream",
          "text": [
            "\n",
            "Digite um número de usuário de 0 a 103307  para obter as recomendações: 345\n",
            "Produtos que o usuário avaliou bem:\n",
            "\n",
            "https://www.amazon.com/dp/B000002JU3\n",
            "https://www.amazon.com/dp/B00000I3ZR\n",
            "https://www.amazon.com/dp/B000002BR7\n",
            "https://www.amazon.com/dp/B001VFM0QK\n",
            "https://www.amazon.com/dp/B00006FWXU\n",
            "\n",
            "\n",
            "Produtos recomendados:\n",
            "\n",
            "https://www.amazon.com/dp/B000002W6C\n",
            "https://www.amazon.com/dp/B0000033WI\n",
            "https://www.amazon.com/dp/B000000WHF\n",
            "https://www.amazon.com/dp/B000000W7O\n",
            "https://www.amazon.com/dp/B000002A3E\n",
            "\n",
            "\n",
            "\n",
            "Deseja consultar outro usuário? [S/N]\n",
            " n\n"
          ]
        }
      ]
    }
  ]
}